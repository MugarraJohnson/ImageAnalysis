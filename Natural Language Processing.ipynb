{
  "cells": [
    {
      "cell_type": "raw",
      "metadata": {},
      "source": [
        "---\n",
        "title: \"Untitled\"\n",
        "format: pdf\n",
        "editor: visual\n",
        "editor_options: \n",
        "  chunk_output_type: console\n",
        "---"
      ],
      "id": "51714fb7"
    },
    {
      "cell_type": "code",
      "metadata": {},
      "source": [
        "import numpy as np\n",
        "import wikipedia as wiki"
      ],
      "id": "e83beb4e",
      "execution_count": null,
      "outputs": []
    },
    {
      "cell_type": "markdown",
      "metadata": {},
      "source": [
        "Norm of a vector"
      ],
      "id": "a6240834"
    },
    {
      "cell_type": "code",
      "metadata": {},
      "source": [
        "a = np.array([1,2,3,4,5])\n",
        "np.linalg.norm(a)"
      ],
      "id": "340d4dfe",
      "execution_count": null,
      "outputs": []
    },
    {
      "cell_type": "markdown",
      "metadata": {},
      "source": [
        "Dot Product"
      ],
      "id": "c728666a"
    },
    {
      "cell_type": "code",
      "metadata": {},
      "source": [
        "a = np.array([1,2,3,4,5])\n",
        "b = np.array([5,6,7,8,9])\n",
        "np.dot(a,b)"
      ],
      "id": "acf4db54",
      "execution_count": null,
      "outputs": []
    },
    {
      "cell_type": "markdown",
      "metadata": {},
      "source": [
        "Cauchy-Schwarz Inequality"
      ],
      "id": "12b60ab8"
    },
    {
      "cell_type": "code",
      "metadata": {},
      "source": [
        "np.dot(a,b)/(np.linalg.norm(a)*np.linalg.norm(b))"
      ],
      "id": "0b0f135e",
      "execution_count": null,
      "outputs": []
    },
    {
      "cell_type": "code",
      "metadata": {},
      "source": [
        "a = wiki.page('jungle book', auto_suggest = False)\n",
        "b = wiki.page('Harry Potter', auto_suggest = False)\n",
        "c = wiki.page('Tarzan', auto_suggest = False)"
      ],
      "id": "00f9af41",
      "execution_count": null,
      "outputs": []
    },
    {
      "cell_type": "markdown",
      "metadata": {},
      "source": [
        "Counting Number of words in each book"
      ],
      "id": "1a390e08"
    },
    {
      "cell_type": "code",
      "metadata": {},
      "source": [
        "print(len(a.content.split()))\n",
        "print(len(b.content.split()))\n",
        "print(len(c.content.split()))"
      ],
      "id": "352c86f0",
      "execution_count": null,
      "outputs": []
    },
    {
      "cell_type": "markdown",
      "metadata": {},
      "source": [
        "Import text to vectors"
      ],
      "id": "e055ee89"
    },
    {
      "cell_type": "code",
      "metadata": {},
      "source": [
        "from sklearn.feature_extraction.text import CountVectorizer, TfidfVectorizer"
      ],
      "id": "2b2f8641",
      "execution_count": null,
      "outputs": []
    },
    {
      "cell_type": "markdown",
      "metadata": {},
      "source": [
        "Vector the article"
      ],
      "id": "69a4da46"
    }
  ],
  "metadata": {
    "kernelspec": {
      "name": "python3",
      "language": "python",
      "display_name": "Python 3 (ipykernel)"
    }
  },
  "nbformat": 4,
  "nbformat_minor": 5
}